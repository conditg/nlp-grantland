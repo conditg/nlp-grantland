{
 "cells": [
  {
   "cell_type": "code",
   "execution_count": 1,
   "metadata": {},
   "outputs": [],
   "source": [
    "from bs4 import BeautifulSoup, Comment\n",
    "from urllib.request import urlopen\n",
    "import io\n",
    "import numpy as np\n",
    "import pandas as pd\n",
    "from time import sleep\n",
    "import csv\n",
    "from string import ascii_lowercase"
   ]
  },
  {
   "cell_type": "code",
   "execution_count": 2,
   "metadata": {},
   "outputs": [],
   "source": [
    "BASE_URL = 'http://grantland.com/contributors/'"
   ]
  },
  {
   "cell_type": "code",
   "execution_count": 3,
   "metadata": {},
   "outputs": [],
   "source": [
    "def get_writer_links(name):\n",
    "    #Open's the contributor's page and collects\n",
    "    #links to their 10 most recent articles.\n",
    "    #more than 10 would require clicking a 'more' link\n",
    "    html = urlopen(BASE_URL+name).read()\n",
    "    soup = BeautifulSoup(html, \"html.parser\")\n",
    "    section = soup.find(id=\"more-columns\")\n",
    "    links = [h3.a[\"href\"] for h3 in section.find_all(\"h3\")]\n",
    "    display(links)\n",
    "    return links\n",
    "    "
   ]
  },
  {
   "cell_type": "code",
   "execution_count": 4,
   "metadata": {},
   "outputs": [
    {
     "data": {
      "text/plain": [
       "['http://grantland.com/the-triangle/nfl-week-8-picks-the-weight-of-the-interim-label/',\n",
       " 'http://grantland.com/the-triangle/the-grantland-nfl-podcast-week-7-review-part-2/',\n",
       " 'http://grantland.com/the-triangle/the-eagles-on-the-brink/',\n",
       " 'http://grantland.com/the-triangle/the-grantland-nfl-podcast-week-7-recap/',\n",
       " 'http://grantland.com/the-triangle/the-nfl-top-25-rankings/',\n",
       " 'http://grantland.com/the-triangle/week-7-picks-welcome-to-finding-your-nfl-roots/',\n",
       " 'http://grantland.com/the-triangle/the-anatomy-of-baltimores-lost-season/',\n",
       " 'http://grantland.com/the-triangle/nfl-week-6-takeaways-what-the-snapfu/',\n",
       " 'http://grantland.com/the-triangle/your-nfl-all-surprise-team/',\n",
       " 'http://grantland.com/the-triangle/taking-the-nfls-statistical-temperature/']"
      ]
     },
     "metadata": {},
     "output_type": "display_data"
    }
   ],
   "source": [
    "billb = get_writer_links('bill-barnwell')"
   ]
  },
  {
   "cell_type": "code",
   "execution_count": 17,
   "metadata": {},
   "outputs": [],
   "source": [
    "def get_corp(linklist, filename, verbose=False):\n",
    "    #Takes a list of links and returns a list\n",
    "    #where each item is the full text of an article\n",
    "    corpus = []\n",
    "    i = 1 #counter for dynamic filenaming\n",
    "    for link in linklist:\n",
    "        if 'podcast' in link:\n",
    "            pass #excludes podcasts\n",
    "        else:\n",
    "            sleep(3) #be nice\n",
    "            html = urlopen(link).read()\n",
    "            soup = BeautifulSoup(html, \"html.parser\")\n",
    "            body = soup.findAll(\"div\", {\"class\": \"blog-body\"})\n",
    "            children = [x.findChildren(\"p\") for x in body]\n",
    "            if len(children)>1:\n",
    "                #This should never run, but they don't use ID's\n",
    "                #only classes, so just in case...\n",
    "                print(\"check for multiple bodies\", link)\n",
    "            if len(children) ==0:\n",
    "                #A few pages are set up differently\n",
    "                body = soup.findAll(\"div\", {\"class\": \"article-body\"})\n",
    "                children = [x.findChildren(\"p\") for x in body]\n",
    "            art = []\n",
    "            [art.append(para.get_text()+'\\n') for para in children[0]]\n",
    "            corpus.append(art)\n",
    "            with io.open('articles/'+filename+str(i)+'.txt', 'w', encoding='utf-8') as f:\n",
    "                [f.write(_) for _ in art]\n",
    "            if verbose:\n",
    "                print('done: ', link)\n",
    "            i += 1\n",
    "    return corpus\n",
    "\n",
    "        "
   ]
  },
  {
   "cell_type": "code",
   "execution_count": 18,
   "metadata": {},
   "outputs": [
    {
     "data": {
      "text/plain": [
       "8"
      ]
     },
     "execution_count": 18,
     "metadata": {},
     "output_type": "execute_result"
    }
   ],
   "source": [
    "billbarnwell = get_corp(billb, 'billbarnwell')\n",
    "len(billbarnwell)"
   ]
  },
  {
   "cell_type": "markdown",
   "metadata": {},
   "source": [
    "# The essentials: Zach Lowe, Bill Simmons"
   ]
  },
  {
   "cell_type": "code",
   "execution_count": 19,
   "metadata": {},
   "outputs": [
    {
     "data": {
      "text/plain": [
       "['http://grantland.com/the-triangle/the-lowe-post-podcast-howard-beck-on-pursuing-kevin-durant/',\n",
       " 'http://grantland.com/the-triangle/five-minutes-with-bulls-coach-fred-hoiberg/',\n",
       " 'http://grantland.com/the-triangle/our-annual-tiers-of-the-nba/',\n",
       " 'http://grantland.com/the-triangle/the-lowe-post-podcast-2015-16-nba-season-preview-with-jeff-van-gundy/',\n",
       " 'http://grantland.com/the-triangle/35-crazy-predictions-for-the-2015-16-nba-season/',\n",
       " 'http://grantland.com/the-triangle/confessions-of-a-former-diehard/',\n",
       " 'http://grantland.com/the-triangle/the-lowe-post-podcast-kevin-arnovitz-on-major-nba-story-lines-entering-the-season/',\n",
       " 'http://grantland.com/the-triangle/the-annual-nba-league-pass-rankings-part-2-2/',\n",
       " 'http://grantland.com/the-triangle/the-annual-nba-league-pass-rankings-part-1-2/',\n",
       " 'http://grantland.com/the-triangle/the-transition-game-in-minnesota-lavine-gets-the-nod-while-martin-takes-a-seat/']"
      ]
     },
     "metadata": {},
     "output_type": "display_data"
    }
   ],
   "source": [
    "zachl = get_writer_links('zach-lowe')"
   ]
  },
  {
   "cell_type": "code",
   "execution_count": 20,
   "metadata": {},
   "outputs": [],
   "source": [
    "zachlowe = get_corp(zachl, 'zachlowe')"
   ]
  },
  {
   "cell_type": "code",
   "execution_count": 21,
   "metadata": {},
   "outputs": [
    {
     "data": {
      "text/plain": [
       "7"
      ]
     },
     "execution_count": 21,
     "metadata": {},
     "output_type": "execute_result"
    }
   ],
   "source": [
    "len(zachlowe)"
   ]
  },
  {
   "cell_type": "code",
   "execution_count": 67,
   "metadata": {},
   "outputs": [
    {
     "data": {
      "text/plain": [
       "['http://grantland.com/hollywood-prospectus/grantland-summer-movie-preview-sleeper-or-bomb/',\n",
       " 'http://grantland.com/hollywood-prospectus/grantland-summer-movie-preview-adult-movies/',\n",
       " 'http://grantland.com/hollywood-prospectus/grantland-summer-movie-preview-summer-movie-confessions/',\n",
       " 'http://grantland.com/features/complete-column-archives-grantland-edition/',\n",
       " 'http://grantland.com/hollywood-prospectus/grantland-summer-movie-preview-the-group-of-death/',\n",
       " 'http://grantland.com/hollywood-prospectus/grantland-summer-movie-preview-burning-questions/',\n",
       " 'http://grantland.com/hollywood-prospectus/grantland-summer-movie-preview-talk-me-into-this/',\n",
       " 'http://grantland.com/hollywood-prospectus/grantland-summer-movie-preview-chris-vs-chris-vs-chris-vs-chris/',\n",
       " 'http://grantland.com/the-triangle/the-grantland-basketball-hour-daryl-morey-on-life-as-a-gm-diana-taurasi-on-the-nba-playoffs-and-her-move-to-russia/',\n",
       " 'http://grantland.com/hollywood-prospectus/grantland-summer-movie-preview-are-we-sure-theyre-good/']"
      ]
     },
     "metadata": {},
     "output_type": "display_data"
    }
   ],
   "source": [
    "#I'm gonna come back to this movie mess. Most of these are podcasts\n",
    "bills = get_writer_links('bill-simmons')"
   ]
  },
  {
   "cell_type": "code",
   "execution_count": 22,
   "metadata": {},
   "outputs": [
    {
     "data": {
      "text/plain": [
       "['http://grantland.com/features/ball-in-the-family-austin-rivers-nba-doc-rivers-los-angeles-clippers/',\n",
       " 'http://grantland.com/features/wesley-matthews-nba-dallas-mavericks-portland-trail-blazers-achilles-injury-comeback-marquette-university-deandre-jordan-free-agency/',\n",
       " 'http://grantland.com/features/these-are-the-things-that-change-boys-to-men/',\n",
       " 'http://grantland.com/features/thomas-robinson-nba-free-agency-philadelphia-76ers-portland-trail-blazers-houston-rockets-sacramento-kings-kansas-jayhawks/',\n",
       " 'http://grantland.com/features/shed-be-hella-proud-terran-petteway-nba-draft-2015-nebraska-cornhuskers-big-ten/',\n",
       " 'http://grantland.com/features/harrison-barnes-nba-finals-2015-golden-state-warriors-cleveland-cavaliers-lebron-james-north-carolina-tar-heels/',\n",
       " 'http://grantland.com/features/the-quiet-man-paul-millsap-nba-playoffs-2015-atlanta-hawks-cleveland-cavaliers-eastern-conference-utah-jazz/',\n",
       " 'http://grantland.com/features/timofey-mozgov-cleveland-cavaliers/',\n",
       " 'http://grantland.com/features/josh-smith-nba-playoffs-2015/',\n",
       " 'http://grantland.com/features/nba-golden-state-warriors-draymond-green-michigan-state-spartans/']"
      ]
     },
     "metadata": {},
     "output_type": "display_data"
    }
   ],
   "source": [
    "jabrams = get_writer_links('jonathan-abrams')"
   ]
  },
  {
   "cell_type": "code",
   "execution_count": 23,
   "metadata": {},
   "outputs": [
    {
     "name": "stdout",
     "output_type": "stream",
     "text": [
      "done:  http://grantland.com/features/ball-in-the-family-austin-rivers-nba-doc-rivers-los-angeles-clippers/\n",
      "done:  http://grantland.com/features/wesley-matthews-nba-dallas-mavericks-portland-trail-blazers-achilles-injury-comeback-marquette-university-deandre-jordan-free-agency/\n",
      "done:  http://grantland.com/features/these-are-the-things-that-change-boys-to-men/\n",
      "done:  http://grantland.com/features/thomas-robinson-nba-free-agency-philadelphia-76ers-portland-trail-blazers-houston-rockets-sacramento-kings-kansas-jayhawks/\n",
      "done:  http://grantland.com/features/shed-be-hella-proud-terran-petteway-nba-draft-2015-nebraska-cornhuskers-big-ten/\n",
      "done:  http://grantland.com/features/harrison-barnes-nba-finals-2015-golden-state-warriors-cleveland-cavaliers-lebron-james-north-carolina-tar-heels/\n",
      "done:  http://grantland.com/features/the-quiet-man-paul-millsap-nba-playoffs-2015-atlanta-hawks-cleveland-cavaliers-eastern-conference-utah-jazz/\n",
      "done:  http://grantland.com/features/timofey-mozgov-cleveland-cavaliers/\n",
      "done:  http://grantland.com/features/josh-smith-nba-playoffs-2015/\n",
      "done:  http://grantland.com/features/nba-golden-state-warriors-draymond-green-michigan-state-spartans/\n"
     ]
    },
    {
     "data": {
      "text/plain": [
       "10"
      ]
     },
     "execution_count": 23,
     "metadata": {},
     "output_type": "execute_result"
    }
   ],
   "source": [
    "jonathanabrams = get_corp(jabrams, 'jonathanabrams', verbose=True)\n",
    "len(jonathanabrams)"
   ]
  },
  {
   "cell_type": "code",
   "execution_count": 24,
   "metadata": {},
   "outputs": [],
   "source": [
    "#let's do a few all at once\n",
    "writers = {\n",
    "    'shea-serrano': 'sheaserrano',\n",
    "    'mark-titus': 'marktitus',\n",
    "    'kirk-goldsberry' : 'kirkgoldsberry',\n",
    "    'andrew-sharp' : 'andrewsharp',\n",
    "    'brian-phillips': 'brianphillips',\n",
    "    'charles-p-pierce' : 'charlesppierce',\n",
    "    'sean-mcindoe' : 'seanmcindoe',\n",
    "    'steven-hyden' : 'stevenhyden',\n",
    "    'mark-harris' : 'markharris'\n",
    "      }"
   ]
  },
  {
   "cell_type": "code",
   "execution_count": 25,
   "metadata": {
    "scrolled": false
   },
   "outputs": [
    {
     "data": {
      "text/plain": [
       "['http://grantland.com/hollywood-prospectus/the-vin-diesel-character-matrix/',\n",
       " 'http://grantland.com/the-triangle/bayou-citys-beloved-houstons-151-professional-athletes-ranked/',\n",
       " 'http://grantland.com/hollywood-prospectus/bond-by-the-numbers-who-should-replace-daniel-craig-as-007/',\n",
       " 'http://grantland.com/hollywood-prospectus/when-did-will-smith-stop-being-cool/',\n",
       " 'http://grantland.com/features/the-best-hip-hop-song-of-2004/',\n",
       " 'http://grantland.com/hollywood-prospectus/happy-birthday-to-kate-winslet-titanic-murderer-still-at-large/',\n",
       " 'http://grantland.com/hollywood-prospectus/which-movie-astronauts-would-you-want-to-be-stranded-with-in-outer-space/',\n",
       " 'http://grantland.com/hollywood-prospectus/the-10-old-de-niros-you-personally-confront-on-the-way-to-heaven/',\n",
       " 'http://grantland.com/hollywood-prospectus/fetty-waps-charming-impossible-to-dismiss-fetty-wap-in-six-notes/',\n",
       " 'http://grantland.com/hollywood-prospectus/the-se7enn-diagrams-celebrating-your-favorite-serial-killer-movie-in-graphical-form/']"
      ]
     },
     "metadata": {},
     "output_type": "display_data"
    },
    {
     "name": "stdout",
     "output_type": "stream",
     "text": [
      "shea-serrano 10\n"
     ]
    },
    {
     "data": {
      "text/plain": [
       "['http://grantland.com/the-triangle/dukes-defense-the-real-difference-in-the-ncaa-title-game/',\n",
       " 'http://grantland.com/the-triangle/ncaa-tournament-college-basketball-final-four-observations-duke-blue-devils-michigan-state-spartans-kentucky-wildcats-wisconsin-baders/',\n",
       " 'http://grantland.com/the-triangle/ncaa-tournament-march-madness-final-four-kentucky-wildcats-wisconsin-badgers-duke-blue-devils-michigan-state-spartans/',\n",
       " 'http://grantland.com/the-triangle/ncaa-tournament-sweet-16-elite-8-wisconsin-sam-dekker-frank-kaminsky-kentucky-wildcats-notre-dame-jerian-grant-duke-blue-devils-justise-winslow/',\n",
       " 'http://grantland.com/the-triangle/titus-ncaa-tournament-sweet-sixteen-mailbag-duke-justise-winslow-wisconsin-frank-kaminsky-kentucky-john-calipari-wichita-state-shockers-notre-dame-jerian-grant/',\n",
       " 'http://grantland.com/the-triangle/titus-20-ncaa-tournament-observations-kentucky-wildcats-bob-huggins-west-virginia-mountaineers-arizona-wildcats-gabe-york-dangelo-russell-stanley-johnson-ohio-state-buckeyes-wisconsin-badgers/',\n",
       " 'http://grantland.com/the-triangle/ncaa-tournament-selection-sunday-winners-and-losers-duke-virginia-kentucky-arizona-kansas/',\n",
       " 'http://grantland.com/the-triangle/ncaa-college-basketball-rankings-kentucky-wildcats-duke-blue-devils-villanova-arizon-wisconsin-badgers-virginia-cavaliers-gonzaga-bulldogs-kansas-jayhawks-notre-dame-fighting-irish-maryland-terrapins/',\n",
       " 'http://grantland.com/the-triangle/ncaa-basketball-acc-duke-blue-devils-jahlil-okafor-big-10-wisconsin-badgers-frank-kaminsky-pac-12-arizona-wildcats-tj-mcconnell-sec-kentucky-big-12-kansas-jayhawks/',\n",
       " 'http://grantland.com/the-triangle/ncaa-college-basketball-rankings-top-12-wichita-state-shockers-big-12-maryland-terrapins-notre-dame-fighting-irish-gonzaga-bulldogs-kansas-jayhawks-wisconsin-badgers-arizona-wildcats-duke-blue-devils/']"
      ]
     },
     "metadata": {},
     "output_type": "display_data"
    },
    {
     "name": "stdout",
     "output_type": "stream",
     "text": [
      "mark-titus 10\n"
     ]
    },
    {
     "data": {
      "text/plain": [
       "['http://grantland.com/features/russell-the-creator-westbrook-nba-oklahoma-city-thunder-western-conference-kevin-durant-serge-ibaka-kevin-love/',\n",
       " 'http://grantland.com/the-triangle/nba-kevin-love-cleveland-cavaliers-shoulder-injury-nba-preview-eastern-conference/',\n",
       " 'http://grantland.com/the-triangle/the-nbas-next-shooting-revolution-has-already-been-televised/',\n",
       " 'http://grantland.com/the-triangle/anthony-davis-alvin-gentry-pelicans-2015/',\n",
       " 'http://grantland.com/the-triangle/the-ballad-of-dez-and-tony-visualizing-the-cowboys-lethal-quarterback-receiver-combo/',\n",
       " 'http://grantland.com/the-triangle/video-how-to-fix-pickup-basketball-with-analytics/',\n",
       " 'http://grantland.com/the-triangle/roy-hibberts-hollywood-remake-how-the-center-and-the-lakers-can-help-each-other/',\n",
       " 'http://grantland.com/the-triangle/2015-nba-free-agency-3-point-shooter-danny-green-demarre-carroll/',\n",
       " 'http://grantland.com/the-triangle/golden-state-warriors-illustrated/',\n",
       " 'http://grantland.com/the-triangle/superhero-ball-breaking-down-lebrons-historic-nba-finals-performance/']"
      ]
     },
     "metadata": {},
     "output_type": "display_data"
    },
    {
     "name": "stdout",
     "output_type": "stream",
     "text": [
      "kirk-goldsberry 10\n"
     ]
    },
    {
     "data": {
      "text/plain": [
       "['http://grantland.com/the-triangle/2015-nba-preview-stock-watch-chicago-bulls-stan-van-gundy/',\n",
       " 'http://grantland.com/the-triangle/2015-nba-preview-miami-heat-pat-riley-dwyane-wade-chris-bosh-goran-dragic/',\n",
       " 'http://grantland.com/the-triangle/2015-nba-preview-mario-hezonja-orlando-magic-scott-skiles/',\n",
       " 'http://grantland.com/the-triangle/the-warriors-are-angry-long-live-the-angry-warriors/',\n",
       " 'http://grantland.com/the-triangle/its-otto-porter-season-in-washington-d-c/',\n",
       " 'http://grantland.com/the-triangle/tell-your-grandkids-about-the-2015-buffalo-bills/',\n",
       " 'http://grantland.com/the-triangle/ready-to-blast-off-dont-sleep-on-ty-lawson-and-the-rockets/',\n",
       " 'http://grantland.com/the-triangle/answering-some-questions-about-paul-george-playing-power-forward/',\n",
       " 'http://grantland.com/the-triangle/nba-media-day-winners-and-losers-kd-is-back-bargnani-is-wax-and-more/',\n",
       " 'http://grantland.com/the-triangle/we-need-to-talk-about-marcus-camby/']"
      ]
     },
     "metadata": {},
     "output_type": "display_data"
    },
    {
     "name": "stdout",
     "output_type": "stream",
     "text": [
      "andrew-sharp 10\n"
     ]
    },
    {
     "data": {
      "text/plain": [
       "['http://grantland.com/hollywood-prospectus/fifty-scenes-x-files-revival-fox-david-duchovny-gillian-anderson-fox-mulder-dana-scully/',\n",
       " 'http://grantland.com/hollywood-prospectus/disneyland-anaheim-space-mountain-splash-mountain-pirates-of-the-caribbean-buzz-lightyear-haunted-mansion-rides/',\n",
       " 'http://grantland.com/hollywood-prospectus/the-biggest-man-understanding-andre-the-giant-wrestlings-massive-indefinable-contradiction/',\n",
       " 'http://grantland.com/the-triangle/jurgen-klopp-liverpool/',\n",
       " 'http://grantland.com/hollywood-prospectus/we-are-living-in-a-robot-moment-rejoice-cower-and-copulate/',\n",
       " 'http://grantland.com/the-triangle/the-hound-of-basketville-on-kareem-abdul-jabbars-detective-novel/',\n",
       " 'http://grantland.com/the-triangle/tomorrow-in-the-valley-of-ashes-the-unquiet-power-of-djokovic-stymies-federers-magical-run/',\n",
       " 'http://grantland.com/the-triangle/serena-lost-serena-lost/',\n",
       " 'http://grantland.com/the-triangle/mixed-troubles-falling-in-love-with-nick-kyrgios-and-genie-bouchard-at-the-u-s-open/',\n",
       " 'http://grantland.com/hollywood-prospectus/the-franzen-of-it-all-purity-and-the-great-american-novelist/']"
      ]
     },
     "metadata": {},
     "output_type": "display_data"
    },
    {
     "name": "stdout",
     "output_type": "stream",
     "text": [
      "brian-phillips 10\n"
     ]
    },
    {
     "data": {
      "text/plain": [
       "['http://grantland.com/the-triangle/the-legacy-of-the-nfl-sin-eaters/',\n",
       " 'http://grantland.com/the-triangle/snap-judgment-the-pats-deflate-the-colts-in-indy/',\n",
       " 'http://grantland.com/the-triangle/its-time-to-stop-being-stupid-about-sports-gambling/',\n",
       " 'http://grantland.com/the-triangle/beatdown-the-cubs-keelhaul-the-bucs-in-pittsburgh/',\n",
       " 'http://grantland.com/the-triangle/the-death-of-evan-murray/',\n",
       " 'http://grantland.com/the-triangle/peytons-place-why-the-broncos-quarterback-should-retire/',\n",
       " 'http://grantland.com/hollywood-prospectus/the-law-order-awards-celebrating-25-years-of-bah-bhmmm/',\n",
       " 'http://grantland.com/the-triangle/tangled-up-in-blue-the-jays-pull-away-in-the-al-east/',\n",
       " 'http://grantland.com/the-triangle/brady-freed-shield-dented-the-nfl-gets-a-judicial-smackdown/',\n",
       " 'http://grantland.com/the-triangle/the-swamp-the-state-of-the-nfl-in-washington-d-c/']"
      ]
     },
     "metadata": {},
     "output_type": "display_data"
    },
    {
     "name": "stdout",
     "output_type": "stream",
     "text": [
      "charles-p-pierce 10\n"
     ]
    },
    {
     "data": {
      "text/plain": [
       "['http://grantland.com/the-triangle/nhl-grab-bag-lets-get-spooky/',\n",
       " 'http://grantland.com/the-triangle/your-nhl-stock-report/',\n",
       " 'http://grantland.com/the-triangle/how-the-blue-jackets-snatched-defeat-out-of-the-jaws-of-victory/',\n",
       " 'http://grantland.com/the-triangle/nhl-weekend-ducks-and-cover/',\n",
       " 'http://grantland.com/the-triangle/nhl-grab-bag-hey-its-early/',\n",
       " 'http://grantland.com/the-triangle/nhl-coaching-hot-seat-temperature-check/',\n",
       " 'http://grantland.com/the-triangle/goalie-attacks-a-how-to-guide-to-getting-revenge/',\n",
       " 'http://grantland.com/the-triangle/nhl-weekend-has-anyone-seen-sidney-crosby/',\n",
       " 'http://grantland.com/the-triangle/nhl-grab-bag-backstreets-back-all-right/',\n",
       " 'http://grantland.com/the-triangle/a-dozen-developments-from-the-nhls-first-week/']"
      ]
     },
     "metadata": {},
     "output_type": "display_data"
    },
    {
     "name": "stdout",
     "output_type": "stream",
     "text": [
      "sean-mcindoe 10\n"
     ]
    },
    {
     "data": {
      "text/plain": [
       "['http://grantland.com/hollywood-prospectus/in-praise-of-beach-slang-2015s-best-most-sincere-rock-band/',\n",
       " 'http://grantland.com/hollywood-prospectus/ash-vs-bruce-campbell-the-b-movie-legend-returns-to-the-evil-dead/',\n",
       " 'http://grantland.com/hollywood-prospectus/at-what-precise-moment-did-bradley-cooper-become-likable/',\n",
       " 'http://grantland.com/hollywood-prospectus/have-another-one-on-me-the-return-of-joanna-newsom/',\n",
       " 'http://grantland.com/hollywood-prospectus/songs-of-the-week-5-seconds-of-summer-neon-indian-and-el-vy/',\n",
       " 'http://grantland.com/hollywood-prospectus/steven-spielberg-movie-brats-bridge-of-spies/',\n",
       " 'http://grantland.com/hollywood-prospectus/the-devil-and-jesse-hughes-the-donald-trump-supporting-drug-hoovering-frontman-for-eagles-of-death-metal-will-not-apologize-for-anything/',\n",
       " 'http://grantland.com/hollywood-prospectus/drake-bruce-springsteen-and-the-secret-to-great-driving-songs/',\n",
       " 'http://grantland.com/hollywood-prospectus/overrated-underrated-or-properly-rated-the-four-versions-of-matt-damon/',\n",
       " 'http://grantland.com/hollywood-prospectus/how-radioheads-kid-a-kicked-off-the-streaming-revolution/']"
      ]
     },
     "metadata": {},
     "output_type": "display_data"
    },
    {
     "name": "stdout",
     "output_type": "stream",
     "text": [
      "steven-hyden 10\n"
     ]
    },
    {
     "data": {
      "text/plain": [
       "['http://grantland.com/hollywood-prospectus/the-new-york-film-festival-grapples-with-the-death-of-an-icon/',\n",
       " 'http://grantland.com/hollywood-prospectus/what-makes-matty-run-the-essential-surprisingly-controversial-reboot-of-project-greenlight/',\n",
       " 'http://grantland.com/hollywood-prospectus/colbert-report-the-debut-of-the-new-late-show/',\n",
       " 'http://grantland.com/hollywood-prospectus/the-four-big-lessons-of-the-summer-2015-box-office/',\n",
       " 'http://grantland.com/hollywood-prospectus/the-fantastic-four-fallout-the-future-of-comic-book-franchises/',\n",
       " 'http://grantland.com/hollywood-prospectus/tom-cruise-oscars-academy-awards-jerry-maguire/',\n",
       " 'http://grantland.com/hollywood-prospectus/jake-gyllenhaal-career-arc-southpaw-broadway/',\n",
       " 'http://grantland.com/hollywood-prospectus/jurassic-world-box-office-franchise-movies-hollywood/',\n",
       " 'http://grantland.com/hollywood-prospectus/unreal-lifetime-the-bachelor-abc-reality-tv/',\n",
       " 'http://grantland.com/hollywood-prospectus/mad-max-avengers-cgi-computer-animation-action/']"
      ]
     },
     "metadata": {},
     "output_type": "display_data"
    },
    {
     "name": "stdout",
     "output_type": "stream",
     "text": [
      "mark-harris 10\n"
     ]
    }
   ],
   "source": [
    "for name, filename in writers.items():\n",
    "    links = get_writer_links(name)\n",
    "    corpus = get_corp(links, filename)\n",
    "    print(name, len(corpus))"
   ]
  },
  {
   "cell_type": "markdown",
   "metadata": {},
   "source": [
    "We have a nice corpus now, I really wanted some Bill Simmons content too. He's best known as a sports writer, but his most recent articles are almost all about movies, so I'm going to hand-select his most recent sports-only articles:"
   ]
  },
  {
   "cell_type": "code",
   "execution_count": 1,
   "metadata": {},
   "outputs": [],
   "source": [
    "bslist = [\n",
    "    'http://grantland.com/the-triangle/the-tim-duncan-question/',\n",
    "    'http://grantland.com/the-triangle/the-saturday-decision/',\n",
    "    'http://grantland.com/the-triangle/welcome-to-the-2015-sports-guy-mailbag-reunion-tour/',\n",
    "    'http://grantland.com/the-triangle/the-mailbag-reunion-tour-continues/',\n",
    "    'http://grantland.com/the-triangle/the-nbas-furious-17-capturing-the-noncontenders-state-of-mind/',\n",
    "    'http://grantland.com/features/2015-nba-trade-value-part-3-the-final-countdown/',\n",
    "    'http://grantland.com/hollywood-prospectus/ready-for-prime-time-the-giddy-brilliant-and-ok-somewhat-bloated-snl-40/',\n",
    "    'http://grantland.com/the-triangle/running-diary-super-bowl-xlix-new-england-patriots-seattle-seahawks/',\n",
    "    'http://grantland.com/the-triangle/super-bowl-mailbag-seattle-seahawks-new-england-patriots/',\n",
    "    'http://grantland.com/the-triangle/that-championship-mailbag-2015-edition/',\n",
    "    'http://grantland.com/the-triangle/the-15th-round/'\n",
    "]"
   ]
  },
  {
   "cell_type": "code",
   "execution_count": 27,
   "metadata": {},
   "outputs": [
    {
     "data": {
      "text/plain": [
       "11"
      ]
     },
     "execution_count": 27,
     "metadata": {},
     "output_type": "execute_result"
    }
   ],
   "source": [
    "bs = get_corp(bslist, 'billsimmons')\n",
    "len(bs)"
   ]
  }
 ],
 "metadata": {
  "kernelspec": {
   "display_name": "Python 3",
   "language": "python",
   "name": "python3"
  },
  "language_info": {
   "codemirror_mode": {
    "name": "ipython",
    "version": 3
   },
   "file_extension": ".py",
   "mimetype": "text/x-python",
   "name": "python",
   "nbconvert_exporter": "python",
   "pygments_lexer": "ipython3",
   "version": "3.7.0"
  }
 },
 "nbformat": 4,
 "nbformat_minor": 2
}
